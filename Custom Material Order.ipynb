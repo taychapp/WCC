{
 "cells": [
  {
   "cell_type": "code",
   "execution_count": 1,
   "id": "fluid-quebec",
   "metadata": {},
   "outputs": [],
   "source": [
    "import numpy as np\n",
    "import pandas as pd"
   ]
  },
  {
   "cell_type": "code",
   "execution_count": 2,
   "id": "legitimate-consistency",
   "metadata": {},
   "outputs": [],
   "source": [
    "def custom_order(small_boards):\n",
    "    large_board_length = 96\n",
    "    blade_width = 0.125\n",
    "    small_boards.sort(reverse=True)\n",
    "    board_cuts = []\n",
    "    current_board_index = 0\n",
    "    remaining_length = large_board_length\n",
    "    remaining_lengths = []\n",
    "    added = False\n",
    "    for board_length, quantity in small_boards:\n",
    "        for i in range(quantity):\n",
    "            if remaining_length >= board_length+blade_width:\n",
    "                if current_board_index == len(board_cuts):\n",
    "                    board_cuts.append((current_board_index + 1, [board_length]))\n",
    "                else:\n",
    "                    board_cuts[current_board_index][1].append(board_length)\n",
    "                remaining_length -= board_length\n",
    "                remaining_length -= blade_width\n",
    "            else:\n",
    "                if len(remaining_lengths) < len(board_cuts): # or else it adds the remaining length multiple times\n",
    "                    remaining_lengths.append(remaining_length+blade_width)\n",
    "                # check if within remaining lengths if there is enough space to make another cut\n",
    "                for board, old_space in enumerate(remaining_lengths):\n",
    "                    if board_length+blade_width <= old_space:\n",
    "                        board_cuts[board][1].append(board_length)\n",
    "                        # make updates to remaining_lengths, board_cuts, board_length\n",
    "                        remaining_lengths[board] = old_space - blade_width - board_length\n",
    "                        # update board_length, quantity, go to next loop of small_boards\n",
    "                        added = True\n",
    "                        # no change to current_board_index, remaining_length \n",
    "                            # since we did not do anything with current board\n",
    "                        break\n",
    "                if not added:\n",
    "                    current_board_index += 1\n",
    "                    if current_board_index == len(board_cuts):\n",
    "                        board_cuts.append((current_board_index + 1, [board_length]))\n",
    "                    else:\n",
    "                        board_cuts[current_board_index][1].append(board_length)\n",
    "                    remaining_length = large_board_length - blade_width - board_length\n",
    "                added = False\n",
    "    remaining_lengths.append(remaining_length+blade_width)\n",
    "    #print(\"Remaining lengths (waste) of each large board:\")\n",
    "    #print(remaining_lengths)\n",
    "    return board_cuts"
   ]
  },
  {
   "cell_type": "code",
   "execution_count": 3,
   "id": "supreme-bread",
   "metadata": {},
   "outputs": [],
   "source": [
    "def check_board_length(board):\n",
    "    print(\"The amount of board used: \")\n",
    "    print(sum(board)+(len(board)-1)*0.125)"
   ]
  },
  {
   "cell_type": "code",
   "execution_count": 5,
   "id": "orange-mixer",
   "metadata": {},
   "outputs": [],
   "source": [
    "def check_rod_length(rod):\n",
    "    print(\"The amount of rod used: \")\n",
    "    print(sum(rod)+(len(rod)-1)*0.125)"
   ]
  },
  {
   "cell_type": "code",
   "execution_count": 6,
   "id": "personal-settle",
   "metadata": {},
   "outputs": [
    {
     "name": "stdout",
     "output_type": "stream",
     "text": [
      "AMOUNT OF RODS TO ORDER: 3\n",
      "Small rods cut out of each 96\" rod:\n",
      "Large rod 1: [33.875, 29.875, 29.875]\n",
      "The amount of rod used: \n",
      "93.875\n",
      "Large rod 2: [29.75, 29.75, 26.25]\n",
      "The amount of rod used: \n",
      "86.0\n",
      "Large rod 3: [26.25, 22.625, 22.625]\n",
      "The amount of rod used: \n",
      "71.75\n"
     ]
    }
   ],
   "source": [
    "#10/5\n",
    "small_rods = [(29.875,2), (29.75,2), (26.25,2), (22.625, 2), (33.875,1)]\n",
    "result = custom_order(small_rods)\n",
    "print(\"AMOUNT OF RODS TO ORDER:\", len(result))\n",
    "print(\"Small rods cut out of each 96\\\" rod:\")\n",
    "for large_rod_index, rods_cuts in result:\n",
    "    print(f\"Large rod {large_rod_index}: {rods_cuts}\")\n",
    "    check_rod_length(rods_cuts)"
   ]
  },
  {
   "cell_type": "code",
   "execution_count": 4,
   "id": "embedded-representative",
   "metadata": {},
   "outputs": [
    {
     "name": "stdout",
     "output_type": "stream",
     "text": [
      "AMOUNT OF BOARDS TO ORDER: 4\n",
      "Small boards cut out of each 96\" board:\n",
      "Large board 1: [72]\n",
      "The amount of board used: \n",
      "72.0\n",
      "Large board 2: [72]\n",
      "The amount of board used: \n",
      "72.0\n",
      "Large board 3: [29.875, 29.875, 29.875]\n",
      "The amount of board used: \n",
      "89.875\n",
      "Large board 4: [29.875, 29.875]\n",
      "The amount of board used: \n",
      "59.875\n"
     ]
    }
   ],
   "source": [
    "# 9/1\n",
    "small_boards = [(29.875, 5), (72, 2)]\n",
    "result = custom_order(small_boards)\n",
    "print(\"AMOUNT OF BOARDS TO ORDER:\", len(result))\n",
    "print(\"Small boards cut out of each 96\\\" board:\")\n",
    "for large_board_index, boards_cuts in result:\n",
    "    print(f\"Large board {large_board_index}: {boards_cuts}\")\n",
    "    check_board_length(boards_cuts)"
   ]
  },
  {
   "cell_type": "code",
   "execution_count": 4,
   "id": "coral-sierra",
   "metadata": {},
   "outputs": [
    {
     "name": "stdout",
     "output_type": "stream",
     "text": [
      "AMOUNT OF BOARDS TO ORDER: 8\n",
      "Small boards cut out of each 96\" board:\n",
      "Large board 1: [29.875, 29.875, 29.875]\n",
      "The amount of board used: \n",
      "89.875\n",
      "Large board 2: [29.875, 29.875, 29.875]\n",
      "The amount of board used: \n",
      "89.875\n",
      "Large board 3: [29.875, 29.875, 29.875]\n",
      "The amount of board used: \n",
      "89.875\n",
      "Large board 4: [29.875, 29.875, 29.875]\n",
      "The amount of board used: \n",
      "89.875\n",
      "Large board 5: [29.875, 25, 25, 14.5]\n",
      "The amount of board used: \n",
      "94.75\n",
      "Large board 6: [23, 23, 23, 23]\n",
      "The amount of board used: \n",
      "92.375\n",
      "Large board 7: [23, 23, 14.5, 14.5, 14.5]\n",
      "The amount of board used: \n",
      "90.0\n",
      "Large board 8: [14.5, 14.5, 14.5]\n",
      "The amount of board used: \n",
      "43.75\n"
     ]
    }
   ],
   "source": [
    "# 9/1\n",
    "small_boards = [(29.875, 13), (25, 2), (23, 6), (14.5, 7)]\n",
    "result = custom_order(small_boards)\n",
    "print(\"AMOUNT OF BOARDS TO ORDER:\", len(result))\n",
    "print(\"Small boards cut out of each 96\\\" board:\")\n",
    "for large_board_index, boards_cuts in result:\n",
    "    print(f\"Large board {large_board_index}: {boards_cuts}\")\n",
    "    check_board_length(boards_cuts)"
   ]
  },
  {
   "cell_type": "code",
   "execution_count": null,
   "id": "explicit-colleague",
   "metadata": {},
   "outputs": [],
   "source": [
    "# 8/23\n",
    "small_boards = [(29.875, 16), (21, 2), (20, 2)]\n",
    "result = custom_order(small_boards)\n",
    "print(\"AMOUNT OF BOARDS TO ORDER:\", len(result))\n",
    "print(\"Small boards cut out of each 96\\\" board:\")\n",
    "for large_board_index, boards_cuts in result:\n",
    "    print(f\"Large board {large_board_index}: {boards_cuts}\")\n",
    "    check_board_length(boards_cuts)"
   ]
  },
  {
   "cell_type": "code",
   "execution_count": null,
   "id": "grand-michael",
   "metadata": {},
   "outputs": [],
   "source": [
    "# 7/10 rods\n",
    "small_rods = [(28.875,2), (15.625,2), (11.375,1), (24, 3)]\n",
    "result = custom_order(small_rods)\n",
    "print(\"AMOUNT OF RODSS TO ORDER:\", len(result))\n",
    "print(\"Small rods cut out of each 96\\\" rod:\")\n",
    "for large_rod_index, rods_cuts in result:\n",
    "    print(f\"Large rod {large_rod_index}: {rods_cuts}\")\n",
    "    check_board_length(rods_cuts)"
   ]
  },
  {
   "cell_type": "code",
   "execution_count": null,
   "id": "taken-premises",
   "metadata": {},
   "outputs": [],
   "source": [
    "# 7/10\n",
    "small_boards = [(23.875, 5), (15.625, 2), (13.625, 12), (11.375, 3), \n",
    "                (28.875, 2), (23.875, 5), (12, 13), (29.875, 6), (25, 4), (14, 5)]\n",
    "result = custom_order(small_boards)\n",
    "print(\"AMOUNT OF BOARDS TO ORDER:\", len(result))\n",
    "print(\"Small boards cut out of each 96\\\" board:\")\n",
    "for large_board_index, boards_cuts in result:\n",
    "    print(f\"Large board {large_board_index}: {boards_cuts}\")\n",
    "    check_board_length(boards_cuts)"
   ]
  },
  {
   "cell_type": "code",
   "execution_count": null,
   "id": "outstanding-remainder",
   "metadata": {},
   "outputs": [],
   "source": [
    "small_boards = [(23.875, 4), (29.875, 3)]\n",
    "result = custom_order(small_boards)\n",
    "print(\"AMOUNT OF BOARDS TO ORDER:\", len(result))\n",
    "print(\"Small boards cut out of each 96\\\" board:\")\n",
    "for large_board_index, boards_cuts in result:\n",
    "    print(f\"Large board {large_board_index}: {boards_cuts}\")\n",
    "    #check_board_length(boards_cuts)"
   ]
  },
  {
   "cell_type": "code",
   "execution_count": null,
   "id": "stunning-playlist",
   "metadata": {},
   "outputs": [],
   "source": [
    "small_boards = [(38,3), (31.75,3), (29.875,4), (26.875,3), (30.875,6), (23.875,2), (15,4), (12,6)]\n",
    "result = custom_order(small_boards)\n",
    "print(\"AMOUNT OF BOARDS TO ORDER:\", len(result))\n",
    "print(\"Small boards cut out of each 96\\\" board:\")\n",
    "for large_board_index, boards_cuts in result:\n",
    "    print(f\"Large board {large_board_index}: {boards_cuts}\")\n",
    "    #check_board_length(boards_cuts)"
   ]
  },
  {
   "cell_type": "code",
   "execution_count": null,
   "id": "fluid-consultancy",
   "metadata": {},
   "outputs": [],
   "source": [
    "small_boards = [(29.875,12), (27.8125,6), (27,17), (26.4375,9), (23.875,18), (22.5,7), (21.125,8), (12,1)]\n",
    "result = custom_order(small_boards)\n",
    "print(\"AMOUNT OF BOARDS TO ORDER:\", len(result))\n",
    "print(\"Small boards cut out of each 96\\\" board:\")\n",
    "for large_board_index, boards_cuts in result:\n",
    "    print(f\"Large board {large_board_index}: {boards_cuts}\")\n",
    "    #check_board_length(boards_cuts)"
   ]
  },
  {
   "cell_type": "code",
   "execution_count": null,
   "id": "basic-median",
   "metadata": {},
   "outputs": [],
   "source": [
    "small_boards = [(18,2), (31.5,2), (23.875,12), (17.875,6), (16,3), (34.5,4), (27,1), (19.5,4), (29.875,2)]\n",
    "result = custom_order(small_boards) #12\n",
    "print(\"AMOUNT OF BOARDS TO ORDER:\", len(result))\n",
    "print(\"Small boards cut out of each 96\\\" board:\")\n",
    "for large_board_index, boards_cuts in result:\n",
    "    print(f\"Large board {large_board_index}: {boards_cuts}\")\n",
    "    #check_board_length(boards_cuts)"
   ]
  },
  {
   "cell_type": "code",
   "execution_count": null,
   "id": "dress-maria",
   "metadata": {},
   "outputs": [],
   "source": [
    "small_boards = [(38,3), (31.75,3), (29.875,4), (26.875,3), (30.875,6), (23.875,2), (15,4), (12,6)]\n",
    "result = custom_order(small_boards) #10\n",
    "print(\"AMOUNT OF BOARDS TO ORDER:\", len(result))\n",
    "print(\"Small boards cut out of each 96\\\" board:\")\n",
    "for large_board_index, boards_cuts in result:\n",
    "    print(f\"Large board {large_board_index}: {boards_cuts}\")\n",
    "    #check_board_length(boards_cuts)"
   ]
  },
  {
   "cell_type": "code",
   "execution_count": null,
   "id": "recreational-heavy",
   "metadata": {},
   "outputs": [],
   "source": [
    "small_boards = [(34.625,3), (34.5,3), (29.875,32), (25.875,6)]\n",
    "result = custom_order(small_boards) #15\n",
    "print(\"AMOUNT OF BOARDS TO ORDER:\", len(result))\n",
    "print(\"Small boards cut out of each 96\\\" board:\")\n",
    "for large_board_index, boards_cuts in result:\n",
    "    print(f\"Large board {large_board_index}: {boards_cuts}\")\n",
    "    #check_board_length(boards_cuts)"
   ]
  },
  {
   "cell_type": "code",
   "execution_count": null,
   "id": "forbidden-easter",
   "metadata": {},
   "outputs": [],
   "source": [
    "# 5/10\n",
    "small_boards = [(21,6), (29.875,6), (12,1), (23.875,10), (24.25,3)]\n",
    "\n",
    "result = custom_order(small_boards) \n",
    "print(\"AMOUNT OF BOARDS TO ORDER:\", len(result))\n",
    "print(\"Small boards cut out of each 96\\\" board:\")\n",
    "for large_board_index, boards_cuts in result:\n",
    "    print(f\"Large board {large_board_index}: {boards_cuts}\")"
   ]
  },
  {
   "cell_type": "code",
   "execution_count": null,
   "id": "starting-czech",
   "metadata": {},
   "outputs": [],
   "source": [
    "def custom_order_debug(small_boards):\n",
    "    large_board_length = 96\n",
    "    blade_width = 0.125\n",
    "    small_boards.sort(reverse=True)\n",
    "    board_cuts = []\n",
    "    \n",
    "    current_board_index = 0\n",
    "    remaining_length = large_board_length\n",
    "    remaining_lengths = []\n",
    "    added = False\n",
    "    for board_length, quantity in small_boards:\n",
    "        for i in range(quantity):\n",
    "            print(\"Board_length, quantity\")\n",
    "            print(board_length, i)\n",
    "            if remaining_length >= board_length+blade_width:\n",
    "                if current_board_index == len(board_cuts):\n",
    "                    board_cuts.append((current_board_index + 1, [board_length]))\n",
    "                    print(\"New board\")\n",
    "                    print(board_cuts)\n",
    "                else:\n",
    "                    board_cuts[current_board_index][1].append(board_length)\n",
    "                    print(\"Add to board\")\n",
    "                    print(board_cuts)\n",
    "                remaining_length -= board_length\n",
    "                remaining_length -= blade_width\n",
    "            else:\n",
    "                if len(remaining_lengths) < len(board_cuts):\n",
    "                    print(\"No space left on current board. Track waste.\")\n",
    "                    remaining_lengths.append(remaining_length+blade_width)\n",
    "                print(remaining_lengths)\n",
    "                # check if within remaining lengths if there is enough space to make another cut\n",
    "                for board, old_space in enumerate(remaining_lengths):\n",
    "                    if board_length+blade_width <= old_space:\n",
    "                        board_cuts[board][1].append(board_length)\n",
    "                        print(\"Efficient boards!\")\n",
    "                        print(board_cuts)\n",
    "                        # make updates to remaining_lengths, board_cuts, board_length\n",
    "                        remaining_lengths[board] = old_space - blade_width - board_length\n",
    "                        # update board_length, quantity, go to next loop of small_boards\n",
    "                        print(\"Save waste!\")\n",
    "                        print(remaining_lengths)\n",
    "                        added = True\n",
    "                        # no change to current_board_index, remaining_length \n",
    "                            # since we did not do anything with current board\n",
    "                        break\n",
    "                if not added:\n",
    "                    current_board_index += 1\n",
    "                    print(\"No space left on current OR old boards\")\n",
    "                    if current_board_index == len(board_cuts):\n",
    "                        board_cuts.append((current_board_index + 1, [board_length]))\n",
    "                        print(\"New board ahead\")\n",
    "                        print(board_cuts)\n",
    "                    else:\n",
    "                        board_cuts[current_board_index][1].append(board_length)\n",
    "                        print(\"New board\")\n",
    "                    remaining_length = large_board_length - blade_width - board_length\n",
    "                added = False\n",
    "    remaining_lengths.append(remaining_length+blade_width)\n",
    "    print(\"Remaining lengths (waste) of each large board:\")\n",
    "    print(remaining_lengths)\n",
    "    return board_cuts"
   ]
  },
  {
   "cell_type": "code",
   "execution_count": null,
   "id": "fourth-checklist",
   "metadata": {},
   "outputs": [],
   "source": []
  }
 ],
 "metadata": {
  "kernelspec": {
   "display_name": "Python 3",
   "language": "python",
   "name": "python3"
  },
  "language_info": {
   "codemirror_mode": {
    "name": "ipython",
    "version": 3
   },
   "file_extension": ".py",
   "mimetype": "text/x-python",
   "name": "python",
   "nbconvert_exporter": "python",
   "pygments_lexer": "ipython3",
   "version": "3.9.13"
  }
 },
 "nbformat": 4,
 "nbformat_minor": 5
}
